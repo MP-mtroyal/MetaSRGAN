{
 "cells": [
  {
   "cell_type": "code",
   "execution_count": null,
   "id": "10df7fd8",
   "metadata": {},
   "outputs": [],
   "source": [
    "import torch \n",
    "import torch.nn as nn\n",
    "from torchvision.utils import save_image, make_grid\n",
    "from torch.autograd import Variable\n",
    "\n",
    "import time\n",
    "\n",
    "import networks\n",
    "from datasets import ImageDataset\n",
    "from plotAllLosses import plotLosses, avg_loss"
   ]
  },
  {
   "cell_type": "code",
   "execution_count": null,
   "id": "d18b9e4b",
   "metadata": {},
   "outputs": [],
   "source": [
    "def shapeSample(_imgs, _recon):\n",
    "    depth  = _imgs[:,0:1]\n",
    "    normal = _imgs[:,1:4]\n",
    "    obj    = _imgs[:,4:5]\n",
    "    depth  = torch.cat((depth, depth, depth), dim=1)\n",
    "    obj    = torch.cat((obj, obj, obj), dim=1)\n",
    "    \n",
    "    r_depth  = _recon[:,0:1]\n",
    "    r_normal = _recon[:,1:4]\n",
    "    r_obj    = _recon[:,4:5]\n",
    "    r_depth  = torch.cat((r_depth, r_depth, r_depth), dim=1)\n",
    "    r_obj    = torch.cat((r_obj, r_obj, r_obj), dim=1)\n",
    "\n",
    "    return [depth, r_depth, normal, r_normal, obj, r_obj]"
   ]
  },
  {
   "cell_type": "code",
   "execution_count": null,
   "id": "8cde60fe",
   "metadata": {},
   "outputs": [],
   "source": [
    "def save_sample(imgs, recon, epoch):\n",
    "    imgs = shapeSample(imgs, recon)\n",
    "    batch_size = 8 if imgs[0].shape[0] > 8 else imgs[0].shape[0]\n",
    "    grid_imgs = []\n",
    "    for img_seq in imgs:\n",
    "        grid_imgs.append(make_grid(img_seq[0:batch_size], nrow=1, normalize=False))\n",
    "    imgs_all = torch.cat(grid_imgs, dim=-1)\n",
    "    save_image(imgs_all, sample_path + model_name + (\"_%d.png\" % epoch))"
   ]
  },
  {
   "cell_type": "code",
   "execution_count": null,
   "id": "30b78536",
   "metadata": {},
   "outputs": [],
   "source": [
    "def autoencoderPath(epoch):\n",
    "    return saved_model_path + model_name + (\"_%d.pth\" % epoch)"
   ]
  },
  {
   "cell_type": "code",
   "execution_count": null,
   "id": "09b3394e",
   "metadata": {},
   "outputs": [],
   "source": [
    "cuda = torch.cuda.is_available()\n",
    "\n",
    "autoencoder = networks.MetaAutoencoder()\n",
    "criterion = nn.MSELoss()\n",
    "optimizer = torch.optim.Adam(autoencoder.parameters(), lr=1e-3, weight_decay=1e-5)\n",
    "\n",
    "if cuda:\n",
    "    autoencoder = autoencoder.cuda()\n",
    "    criterion = criterion.cuda()\n",
    "\n",
    "Tensor = torch.cuda.FloatTensor if cuda else torch.Tensor"
   ]
  },
  {
   "cell_type": "code",
   "execution_count": null,
   "id": "88ef8653",
   "metadata": {},
   "outputs": [],
   "source": [
    "saved_model_path = \"../Checkpoints/\"\n",
    "sample_path      = \"../Samples/TrainingSamples/\"\n",
    "dataset_root     = \"../Dataset/\"\n",
    "model_name       = \"DNO_Autoencoder\"\n",
    "training_set     = \"QuickRender_train\"\n",
    "testing_set      = \"QuickRender_test\""
   ]
  },
  {
   "cell_type": "code",
   "execution_count": null,
   "id": "ecd50e38",
   "metadata": {},
   "outputs": [],
   "source": [
    "resolution  = 256\n",
    "batch_size  = 128\n",
    "start_epoch = 0\n",
    "epochs      = 100\n",
    "train_data_loader = torch.utils.data.DataLoader(\n",
    "    dataset=ImageDataset(dataset_root + training_set, (resolution,resolution)), \n",
    "    batch_size=batch_size, \n",
    "    shuffle=True\n",
    ")\n",
    "test_data_loader = torch.utils.data.DataLoader(\n",
    "    dataset=ImageDataset(dataset_root + testing_set, (resolution,resolution)), \n",
    "    batch_size=batch_size, \n",
    "    shuffle=True\n",
    ")"
   ]
  },
  {
   "cell_type": "code",
   "execution_count": null,
   "id": "3c9102a1",
   "metadata": {},
   "outputs": [],
   "source": [
    "if start_epoch > 0:\n",
    "    autoencoder.load_state_dict(torch.load(autoencoderPath(start_epoch)))"
   ]
  },
  {
   "cell_type": "code",
   "execution_count": null,
   "id": "4733c846",
   "metadata": {},
   "outputs": [],
   "source": [
    "trainLosses = []\n",
    "testLosses  = []\n",
    "outputs = []\n",
    "sample_interval = 100\n",
    "\n",
    "labels = [\"Train\", \"Test\"]\n",
    "\n",
    "start_time = time.time()\n",
    "\n",
    "img, recon = None, None\n",
    "\n",
    "for epoch in range(start_epoch, epochs + 1):\n",
    "    holdTrainLosses = []\n",
    "    holdTestLosses  = []\n",
    "    torch.set_grad_enabled(True)\n",
    "    for images in train_data_loader:\n",
    "        img = Variable(images[\"hr\"].type(Tensor))\n",
    "        img = img[:, 3:8]\n",
    "        recon = autoencoder(img)\n",
    "        loss = criterion(recon, img)\n",
    "        holdTrainLosses.append(loss.item())\n",
    "        \n",
    "        optimizer.zero_grad()\n",
    "        loss.backward()\n",
    "        optimizer.step()\n",
    "        \n",
    "        \n",
    "    save_sample(img, recon, epoch+1)\n",
    "    \n",
    "    torch.set_grad_enabled(False)\n",
    "    for images in test_data_loader:\n",
    "        img = Variable(images[\"hr\"].type(Tensor))\n",
    "        img = img[:, 3:8]\n",
    "        recon = autoencoder(img)\n",
    "        loss = criterion(recon, img)\n",
    "        holdTestLosses.append(loss.item())\n",
    "        \n",
    "        \n",
    "    testLosses.append(avg_loss(holdTestLosses))\n",
    "    if epoch == 0:\n",
    "        trainLosses.append(testLosses[-1])\n",
    "    else:\n",
    "        trainLosses.append(avg_loss(holdTrainLosses))\n",
    "    \n",
    "    plotLosses(\n",
    "        \"DNO Autoencoder\",\n",
    "        epoch+1,\n",
    "        epochs,\n",
    "        [trainLosses,testLosses],\n",
    "        labels,\n",
    "        start_time\n",
    "    )\n",
    "    \n",
    "    torch.save(autoencoder.state_dict(), autoencoderPath(epoch+1))"
   ]
  }
 ],
 "metadata": {
  "kernelspec": {
   "display_name": "Python 3 (ipykernel)",
   "language": "python",
   "name": "python3"
  },
  "language_info": {
   "codemirror_mode": {
    "name": "ipython",
    "version": 3
   },
   "file_extension": ".py",
   "mimetype": "text/x-python",
   "name": "python",
   "nbconvert_exporter": "python",
   "pygments_lexer": "ipython3",
   "version": "3.10.9"
  }
 },
 "nbformat": 4,
 "nbformat_minor": 5
}
